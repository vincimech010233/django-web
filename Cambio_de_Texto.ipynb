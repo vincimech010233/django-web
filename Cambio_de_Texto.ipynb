{
  "nbformat": 4,
  "nbformat_minor": 0,
  "metadata": {
    "colab": {
      "provenance": [],
      "authorship_tag": "ABX9TyPnwB8vECymE05QU2hc6aZR",
      "include_colab_link": true
    },
    "kernelspec": {
      "name": "python3",
      "display_name": "Python 3"
    },
    "language_info": {
      "name": "python"
    }
  },
  "cells": [
    {
      "cell_type": "markdown",
      "metadata": {
        "id": "view-in-github",
        "colab_type": "text"
      },
      "source": [
        "<a href=\"https://colab.research.google.com/github/vincimech010233/django-web/blob/main/Cambio_de_Texto.ipynb\" target=\"_parent\"><img src=\"https://colab.research.google.com/assets/colab-badge.svg\" alt=\"Open In Colab\"/></a>"
      ]
    },
    {
      "cell_type": "code",
      "execution_count": null,
      "metadata": {
        "id": "OnppH9djmWi0"
      },
      "outputs": [],
      "source": [
        "<!DOCTYPE html>\n",
        "<html>\n",
        "\n",
        "<head>\n",
        "  <title>Cambio de Texto con JavaScript</title>\n",
        "  <script>\n",
        "    function cambiarTexto() {\n",
        "      document.getElementById(\"texto\").innerHTML = \"Texto modificado.\";\n",
        "    }\n",
        "  </script>\n",
        "</head>\n",
        "\n",
        "<body>\n",
        "  <p id=\"texto\">Texto original.</p>\n",
        "  <button onclick=\"cambiarTexto()\">Cambiar Texto</button>\n",
        "</body>\n",
        "\n",
        "</html>"
      ]
    }
  ]
}