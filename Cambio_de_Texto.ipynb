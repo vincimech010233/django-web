{
  "nbformat": 4,
  "nbformat_minor": 0,
  "metadata": {
    "colab": {
      "provenance": [],
      "authorship_tag": "ABX9TyPshU7CEFIyIuvWfSRHcCT/",
      "include_colab_link": true
    },
    "kernelspec": {
      "name": "python3",
      "display_name": "Python 3"
    },
    "language_info": {
      "name": "python"
    }
  },
  "cells": [
    {
      "cell_type": "markdown",
      "metadata": {
        "id": "view-in-github",
        "colab_type": "text"
      },
      "source": [
        "<a href=\"https://colab.research.google.com/github/vincimech010233/javascript/blob/main/Cambio_de_Texto.ipynb\" target=\"_parent\"><img src=\"https://colab.research.google.com/assets/colab-badge.svg\" alt=\"Open In Colab\"/></a>"
      ]
    },
    {
      "cell_type": "code",
      "source": [
        "html_code = \"\"\"\n",
        "<!DOCTYPE html>\n",
        "<html>\n",
        "<head>\n",
        "  <title>Cambio de Texto con JavaScript</title>\n",
        "</head>\n",
        "<body>\n",
        "  <p id=\"texto\">Texto original.</p>\n",
        "  <button onclick=\"cambiarTexto()\">Cambiar Texto</button>\n",
        "  <script>\n",
        "    function cambiarTexto() {\n",
        "      document.getElementById(\"texto\").innerHTML = \"Texto modificado.\";\n",
        "    }\n",
        "  </script>\n",
        "</body>\n",
        "</html>\n",
        "\"\"\"\n",
        "\n",
        "print(html_code)\n"
      ],
      "metadata": {
        "id": "wl0PjqrjnvFW"
      },
      "execution_count": null,
      "outputs": []
    }
  ]
}